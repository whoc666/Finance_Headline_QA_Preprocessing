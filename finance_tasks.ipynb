{
  "nbformat": 4,
  "nbformat_minor": 0,
  "metadata": {
    "colab": {
      "provenance": [],
      "toc_visible": true,
      "gpuType": "T4"
    },
    "kernelspec": {
      "name": "python3",
      "display_name": "Python 3"
    },
    "language_info": {
      "name": "python"
    },
    "accelerator": "GPU"
  },
  "cells": [
    {
      "cell_type": "markdown",
      "source": [
        "# Finance Headline QA Dataset Preparation\n",
        "\n",
        "本笔试任务旨在将 AdaptLLM/finance-tasks 数据集中 Headline 子集的文本数据转换成结构化问答对 JSON 格式。\n",
        "\n",
        "- 自动下载数据文件\n",
        "- 解析文本中的多组问答\n",
        "- 输出格式化 JSON\n",
        "\n",
        "---\n",
        "\n",
        "代码步骤清晰，运行时间有统计，方便查看效果。\n"
      ],
      "metadata": {
        "id": "Rv-JTv4e4mCo"
      }
    },
    {
      "cell_type": "code",
      "source": [
        "!pip install datasets --quiet"
      ],
      "metadata": {
        "id": "zDxbhtLM0y-m"
      },
      "execution_count": 1,
      "outputs": []
    },
    {
      "cell_type": "code",
      "source": [
        "import requests\n",
        "import json\n",
        "import uuid\n",
        "import re\n",
        "import time\n",
        "\n",
        "def extract_qa_pairs(text):\n",
        "    qa_list = []\n",
        "    questions = re.findall(r'([^\\?]*\\?)', text)\n",
        "    pos = 0\n",
        "    for q in questions:\n",
        "        start = text.find(q, pos) + len(q)\n",
        "        snippet = text[start:start+30]\n",
        "        match = re.search(r'\\b(Yes|No|yes|no|-?\\d+\\.?\\d*)\\b', snippet)\n",
        "        answer = match.group(1) if match else \"Unknown\"\n",
        "        qa_list.append({\n",
        "            \"id\": str(uuid.uuid4()),\n",
        "            \"Question\": q.strip(),\n",
        "            \"Answer\": answer,\n",
        "            \"Tag\": \"finance-headline\"\n",
        "        })\n",
        "        pos = start\n",
        "    return qa_list\n",
        "\n",
        "def main():\n",
        "    start_time = time.time()\n",
        "\n",
        "    # 1. 用requests下载文件\n",
        "    url = \"https://huggingface.co/datasets/AdaptLLM/finance-tasks/resolve/main/Headline/test.json\"\n",
        "    print(\"开始下载文件...\")\n",
        "    response = requests.get(url)\n",
        "    response.raise_for_status()\n",
        "    data = response.json()\n",
        "    print(f\"文件下载成功，包含条目数量: {len(data)}\")\n",
        "\n",
        "    # 2. 遍历数据，抽取问答对\n",
        "    all_qa_pairs = []\n",
        "    for item in data:\n",
        "        # 这里假设问答文本在item的某字段，例如\"input\"，根据实际结构调整\n",
        "        text = item.get(\"input\", \"\")\n",
        "        qa_pairs = extract_qa_pairs(text)\n",
        "        all_qa_pairs.extend(qa_pairs)\n",
        "\n",
        "    # 3. 保存结果\n",
        "    with open(\"finance_headline_qa.json\", \"w\", encoding=\"utf-8\") as f:\n",
        "        json.dump(all_qa_pairs, f, ensure_ascii=False, indent=2)\n",
        "\n",
        "    end_time = time.time()\n",
        "    print(f\"共提取问答对数量: {len(all_qa_pairs)}\")\n",
        "    print(f\"数据处理总耗时（秒）: {end_time - start_time:.2f}\")\n",
        "\n",
        "if __name__ == \"__main__\":\n",
        "    main()\n"
      ],
      "metadata": {
        "colab": {
          "base_uri": "https://localhost:8080/"
        },
        "id": "3F-XUkjI0z35",
        "outputId": "f4b11b04-88f8-46f6-b099-c3065801a80f"
      },
      "execution_count": 6,
      "outputs": [
        {
          "output_type": "stream",
          "name": "stdout",
          "text": [
            "开始下载文件...\n",
            "文件下载成功，包含条目数量: 20547\n",
            "共提取问答对数量: 146020\n",
            "数据处理总耗时（秒）: 3.38\n"
          ]
        }
      ]
    }
  ]
}